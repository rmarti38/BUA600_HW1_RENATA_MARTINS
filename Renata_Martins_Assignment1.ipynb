{
 "cells": [
  {
   "cell_type": "markdown",
   "metadata": {},
   "source": [
    "<a id=\"overview\"></a>\n",
    "\n",
    "# Evaluating Airbnbs in Asheville\n",
    "\n",
    "\n",
    "## Overview\n",
    "\n",
    "You have just been hired by a real estate company in San Francisco, California. They are trying to enter the short-term rental market by listing several of their properties on Airbnb.com and they have hired you to help inform their direction and marketing. You have a few questions about how Airbnb listings perform, based on factors such as: number of bedrooms, bathrooms, and amenities.\n",
    "\n",
    "When choosing Airbnb listings, what are the factors that go into a typical consumer decision-making process? Can we decompose this process by looking at the data? We can begin to estimate consumer interests by asking questions of the data, such as: How many bathrooms does the rental property have? It is a yurt, a cottage, or a mansion? How much is the nightly fee? What amenities are provided?\n",
    "\n",
    "Your task is to import raw data, clean the data, and provide insights to your real estate client, based on the available sample data and structured questions below. They are looking to you to provide programmatic insights based on your new Python skills!\n",
    "\n",
    "**Expected Time to complete: 4-8 hours**\n",
    "\n",
    "\n",
    "## Objectives\n",
    "This assignment will provide you with a chance to:\n",
    "\n",
    "1. Read/write CSV files using Python's built-in `csv` module.\n",
    "1. Clean and transform raw data from a csv into `lists` and `dicts`.\n",
    "\n",
    "\n",
    "## Problem\n",
    "\n",
    "Your goal is to filter the data and perform some basic analysis, looking to glean market insights and answer questions such as: \n",
    "\n",
    "- What is the most frequently offered amenity in San Francisco?\n",
    "- What is the average cost of listings that match a certain criteria?\n",
    "\n",
    "## Structure\n",
    "\n",
    "This notebook walks through Pythonic data analysis in different stages: \n",
    "\n",
    "- **Required:** This section covers classroom topics from Unit 1 and is _required_. \n",
    "- **Advanced:** This section covers upcoming topics from future Units and is _optional_.\n",
    "\n",
    "Throughout the notebook, you will see clearly labeled sections setting up questions for you to solve. _You must provide answers to all of the questions in the **Required** section._ Note that some questions have been further divided up into \"Part 1\", \"Part 2\", (etc) in order to break down the steps of sequential logic used in Python programming. Please attempt answers for all parts.\n",
    "\n",
    "For those of you who wish to work ahead or want to come back later for more practice, the **Advanced** section offers additional prompts that will extend your analysis. This section is optional; you do not need to complete these for submission. Depending on the discretion of your section instructor, these questions may be worth bonus points.\n",
    "\n",
    "Finally, the **Challenge** section provides an additional set of real-world prompts and examples that integrate new programming concepts and Python libraries not covered in this class. Challenge questions are intended to help you explore and continue your learning outside of this course! _You do not need to complete Challenge questions._\n",
    "\n",
    "\n",
    "## Instructions\n",
    "\n",
    "1. Open the assignment notebook. \n",
    "1. Save a copy of your notebook and retitle it: \"yourname_assignment.ipynb\"\n",
    "1. Attempt answers for all **Required questions**. Some questions can be solved in many different ways!\n",
    "1. Include at least one comment per question explaining your logic or approach. To include a comment in your Python code, use the `#` sign.\n",
    "1. Make sure to include all work within your Jupyter notebook.\n",
    "1. Submit answers for the **Required questions** to your instructional team by the due date.\n",
    "1. Have fun!\n",
    "\n",
    "## Data \n",
    "\n",
    "[Our data](./data/sanfran_airbnb.csv) is a truncated subset of data taken from [Inside Airbnb](http://insideairbnb.com). You'll see twelve columns:\n",
    "\n",
    "- `id` - A unique identifier of the Airbnb\n",
    "- `listing_url` - The URL to the Airbnb\n",
    "- `name` - The name of the listing\n",
    "- `host_id` - A unique identifier for the host\n",
    "- `host_name` - The name of the host\n",
    "- `host_is_superhost` - A boolean stating whether or not the host is a superhost\n",
    "- `neighbourhood_cleansed` - Identifies the neighborhood of the city the listing is in\n",
    "- `accomodates` - How many people the listing can house\n",
    "- `bedrooms` - The reported number of bedrooms\n",
    "- `bathrooms` - The reported number of bathrooms\n",
    "- `amenities` - A list of the amenities that the listing offers\n",
    "- `price` - The nightly fee of the listing (before cleaning fees)"
   ]
  },
  {
   "cell_type": "code",
   "execution_count": 1,
   "metadata": {
    "ExecuteTime": {
     "end_time": "2019-08-15T16:55:09.030350Z",
     "start_time": "2019-08-15T16:55:09.023717Z"
    }
   },
   "outputs": [],
   "source": [
    "# Import the csv module\n",
    "import csv"
   ]
  },
  {
   "cell_type": "markdown",
   "metadata": {},
   "source": [
    "---\n",
    "\n",
    "# REQUIRED / GRADED\n",
    "> **Required:** This section covers classroom topics from Unit 1 and is _required_. \n",
    "\n",
    "In this section of the notebook, you'll begin your analysis by importing and inspecting the data with Python. Make sure to complete questions 1-5. \n",
    "\n",
    "Ready, set, go!\n"
   ]
  },
  {
   "cell_type": "markdown",
   "metadata": {},
   "source": [
    "---\n",
    "\n",
    "## Question 1\n",
    "\n",
    "- **Part 1**: First, you'll need to load the `sanfran_airbnb` CSV from your local files. Alternatively, you can also [click here to access the data online](https://gist.github.com/jeff-boykin/2879dcf8936e42f2d0ef5c7c39b4da70).  \n",
    "\n",
    "> Our data is a truncated subset of data taken from [Inside Airbnb](http://insideairbnb.com/asheville/). The original set contains extra columns which have been removed for this assignment.\n",
    "\n",
    "> Hint: The delimiter for this file is a *tab* character, which can be passed into the `csv.reader` as `csv.reader(csvfile, delimiter='\\t')`\n",
    "\n",
    "\n",
    "- **Part 2**: Next, create a list called `column_names` that holds the column names from the csv. \n",
    "\n",
    "> Hint: There should be 10 columns, total. For example: `columns_names == ['id', 'listing_url', ....]`\n",
    "\n",
    "\n",
    "- **Part 3**: Now create a list called `listings` that holds each listing as it's own list. There should be 6,346 total. For example, `listings[0]` will be:\n",
    "\n",
    "```\n",
    "['958', 'https://www.airbnb.com/rooms/958', 'Bright, Modern Garden Unit - 1BR/1BTH', '1169', 'Holly', 't', 'Western Addition', '3', '1', '1', '[\"Heating\", \"Hot water\", \"Stove\", \"Iron\", \"Dryer\", \"Coffee maker\", \"Carbon monoxide alarm\", \"Pack \\\\u2019n Play/travel crib\", \"Private entrance\", \"Microwave\", \"Hangers\", \"Essentials\", \"Laptop-friendly workspace\", \"First aid kit\", \"Smoke alarm\", \"Refrigerator\", \"Wifi\", \"Cooking basics\", \"Shampoo\", \"TV\", \"Dishes and silverware\", \"Room-darkening shades\", \"Garden or backyard\", \"Hair dryer\", \"Kitchen\", \"Washer\", \"Keypad\", \"Cable TV\", \"Oven\", \"Free street parking\"]', '$132.00 ']\n",
    "\n",
    "```\n",
    "\n",
    "#### Need Help?\n",
    "\n",
    "- [Click here for an explanation of Python data types](https://www.geeksforgeeks.org/python-set-3-strings-lists-tuples-iterations/).\n",
    "- [For examples of Python lists, click here](https://www.w3schools.com/python/python_lists.asp).\n",
    "- [For help reading and writing CSV files in Python, click here](https://www.w3schools.com/python/python_file_write.asp).\n",
    "\n",
    "\n",
    "> Quick note on the amenity: `translation missing: en.hosting_amenity_XX`. Airbnb has to translate each amenity into as many languages as it can in order to provide their services across multiple geographic regions. In order to do this, each amenity is assigned an English translation and served up to us when we view the site in English. When we see things like `translation missing: en.hosting_amenity_49`, that implies that there is some amenity for which there is no suitable translation or available option."
   ]
  },
  {
   "cell_type": "code",
   "execution_count": 2,
   "metadata": {},
   "outputs": [],
   "source": [
    "#importing the csv file, Q1 part 1\n",
    "airbnb_data = \"/Users/renatamartins/Documents/BUA 600/Assignment_1/Unsolved 2/data/sanfran_airbnb.csv\"\n",
    "#doing a forloop and adding sanfran_airbnb\n",
    "with open(airbnb_data, 'r') as sanfran_file:\n",
    "    sanfran_reader = csv.reader(sanfran_file, delimiter=',')\n",
    "    sanfran_airbnb = []\n",
    "    for row in sanfran_reader:\n",
    "        sanfran_airbnb.append(row)"
   ]
  },
  {
   "cell_type": "code",
   "execution_count": 3,
   "metadata": {},
   "outputs": [],
   "source": [
    "# Q1 Part 2: creating a list of the column names\n",
    "column_names = sanfran_airbnb[0]"
   ]
  },
  {
   "cell_type": "code",
   "execution_count": 4,
   "metadata": {},
   "outputs": [],
   "source": [
    "# Q1 Part 3: creating a list called listings by getting everything from the second elemnt to the last element\n",
    "listings = sanfran_airbnb[1:]"
   ]
  },
  {
   "cell_type": "code",
   "execution_count": 5,
   "metadata": {
    "ExecuteTime": {
     "end_time": "2019-08-15T16:55:09.130049Z",
     "start_time": "2019-08-15T16:55:09.120918Z"
    }
   },
   "outputs": [
    {
     "name": "stdout",
     "output_type": "stream",
     "text": [
      "['id', 'listing_url', 'name', 'host_id', 'host_name', 'host_is_superhost', 'neighbourhood_cleansed', 'accommodates', 'bathrooms', 'bedrooms', 'amenities', 'price']\n"
     ]
    }
   ],
   "source": [
    "# Print out the column names\n",
    "print(column_names)"
   ]
  },
  {
   "cell_type": "markdown",
   "metadata": {},
   "source": [
    "---\n",
    "\n",
    "## Question 2\n",
    "\n",
    "Next, answer the following questions using the `listings` variable:\n",
    "\n",
    "- **Part 1**. Print the first listing\n",
    "- **Part 2**. Print the 100th listing\n",
    "- **Part 3**. Print the price of the 100th listing *without* printing the rest of the listing information!\n",
    "\n",
    "> Hint: [Here are some examples on how to print in Python](https://www.w3schools.com/python/ref_func_print.asp) "
   ]
  },
  {
   "cell_type": "code",
   "execution_count": 6,
   "metadata": {},
   "outputs": [
    {
     "name": "stdout",
     "output_type": "stream",
     "text": [
      "['958', 'https://www.airbnb.com/rooms/958', 'Bright, Modern Garden Unit - 1BR/1BTH', '1169', 'Holly', 't', 'Western Addition', '3', '1', '1', '\"Heating\",\"Hot water\",\"Stove\",\"Iron\",\"Dryer\",\"Coffee maker\",\"Carbon monoxide alarm\",\"Pack \\\\u2019n Play/travel crib\",\"Private entrance\",\"Microwave\",\"Hangers\",\"Essentials\",\"Laptop-friendly workspace\",\"First aid kit\",\"Smoke alarm\",\"Refrigerator\",\"Wifi\",\"Cooking basics\",\"Shampoo\",\"TV\",\"Dishes and silverware\",\"Room-darkening shades\",\"Garden or backyard\",\"Hair dryer\",\"Kitchen\",\"Washer\",\"Keypad\",\"Cable TV\",\"Oven\",\"Free street parking\"', '$132.00 ']\n"
     ]
    }
   ],
   "source": [
    "# Q2 Part 1: Printing the first listing\n",
    "print(listings[0])"
   ]
  },
  {
   "cell_type": "code",
   "execution_count": 7,
   "metadata": {},
   "outputs": [
    {
     "name": "stdout",
     "output_type": "stream",
     "text": [
      "['137672', 'https://www.airbnb.com/rooms/137672', 'Charming Private Room in Cozy Apt', '673098', 'Elizabeth', 'f', 'Inner Sunset', '2', '1.5', '1', '\"Host greets you\",\"Long term stays allowed\",\"Heating\",\"Kitchen\",\"Breakfast\",\"Luggage dropoff allowed\",\"Wifi\",\"Washer\",\"Iron\",\"Cable TV\",\"Dryer\",\"TV\",\"Hangers\",\"Laptop-friendly workspace\"', '$150.00 ']\n"
     ]
    }
   ],
   "source": [
    "# Q2 Part 2: Printing the 100th listing \n",
    "print(listings[99])"
   ]
  },
  {
   "cell_type": "code",
   "execution_count": 8,
   "metadata": {},
   "outputs": [
    {
     "name": "stdout",
     "output_type": "stream",
     "text": [
      "$150.00 \n"
     ]
    }
   ],
   "source": [
    "# Q2 Part 3: Printing the 100th listing minus the price\n",
    "print(listings[99][-1])"
   ]
  },
  {
   "cell_type": "markdown",
   "metadata": {},
   "source": [
    "---\n",
    "\n",
    "### Tutorial\n",
    "\n",
    "Before we get to Question 3, let's first look at at a few ways we can manipulate string data in Python."
   ]
  },
  {
   "cell_type": "code",
   "execution_count": 9,
   "metadata": {
    "ExecuteTime": {
     "end_time": "2019-08-15T16:55:09.177297Z",
     "start_time": "2019-08-15T16:55:09.167943Z"
    }
   },
   "outputs": [
    {
     "name": "stdout",
     "output_type": "stream",
     "text": [
      "40,123.00\n",
      "$40123.00\n",
      "40123.00\n"
     ]
    }
   ],
   "source": [
    "# Here are some examples using a `.replace` function with string data (this will come in handy for the next question)!\n",
    "\n",
    "# Example: `str.replace(item_to_replace, item_to_replace_with)`\n",
    "# This will return: `str`\n",
    "\n",
    "print(\"$40,123.00\".replace('$', ''))  # removes the dollar sign\n",
    "print(\"$40,123.00\".replace(',', ''))  # removes the comma\n",
    "print(\"$40,123.00\".replace('$', '').replace(',', ''))  # removes the dollar sign and the comma\n"
   ]
  },
  {
   "cell_type": "code",
   "execution_count": 10,
   "metadata": {
    "ExecuteTime": {
     "end_time": "2019-08-15T16:55:09.187313Z",
     "start_time": "2019-08-15T16:55:09.179685Z"
    }
   },
   "outputs": [
    {
     "name": "stdout",
     "output_type": "stream",
     "text": [
      "['a', 'b', 'c', 'd']\n",
      "['a', 'b', 'c', 'd']\n",
      "['a', 'b', 'c', 'd']\n"
     ]
    }
   ],
   "source": [
    "# And here are some examples of the `.split` functionality with strings. Take a look and then proceed to Question 3 when you're ready!\n",
    "\n",
    "# Example: `str.split(delimiter)`\n",
    "# Returns: `list`\n",
    "\n",
    "print(\"a,b,c,d\".split(','))  # split by comma\n",
    "print(\"a;b;c;d\".split(';'))  # split by semi-colon\n",
    "print(\"a; b; c; d\".split('; '))  # split by semi-colon and a space\n"
   ]
  },
  {
   "cell_type": "markdown",
   "metadata": {},
   "source": [
    "---\n",
    "\n",
    "## Question 3\n",
    "\n",
    "Create a list called `parsed_listings` that contains the original listings as its elements - but with the following changes:\n",
    "\n",
    "    - First, change the 4th item (amenities) to be a list of strings (this one is a bit tricky). \n",
    "> Hint, you may have to remove the `\"`, `}`, and the `{` characters and then split the string by the comma.   \n",
    "    \n",
    "    - Second, change the 5th item (price) to be a float.\n",
    "> Try using `.replace` to remove a few bad characters from your floats\n",
    "\n",
    "    - Third, change the 6th item (bedrooms) to be a float.\n",
    "    - Fourth, change the 7th item (bathrooms) to be a float.\n",
    "\n",
    "> Note that the elements of `parsed_listings` should still be lists themselves (in other words, they should hold the listings' same characteristics). [Click here to learn more about working with different Python data types](https://www.w3schools.com/python/python_datatypes.asp).\n",
    "\n",
    "    - Fifth and finally, try using a `for` loop to accomplish this. When you're done, the first element (`parsed_listing[0]`) should look like:\n",
    "\n",
    "```\n",
    "['958',\n",
    " 'https://www.airbnb.com/rooms/958',\n",
    " 'Bright, Modern Garden Unit - 1BR/1BTH',\n",
    " '1169',\n",
    " 'Holly',\n",
    " 't',\n",
    " 'Western Addition',\n",
    " 3.0,\n",
    " 1.0,\n",
    " 1.0,\n",
    " ['[Heating',\n",
    "  ' Hot water',\n",
    "  ' Stove',\n",
    "  ' Iron',\n",
    "  ' Dryer',\n",
    "  ' Coffee maker',\n",
    "  ' Carbon monoxide alarm',\n",
    "  ' Pack \\\\u2019n Play/travel crib',\n",
    "  ' Private entrance',\n",
    "  ' Microwave',\n",
    "  ' Hangers',\n",
    "  ' Essentials',\n",
    "  ' Laptop-friendly workspace',\n",
    "  ' First aid kit',\n",
    "  ' Smoke alarm',\n",
    "  ' Refrigerator',\n",
    "  ' Wifi',\n",
    "  ' Cooking basics',\n",
    "  ' Shampoo',\n",
    "  ' TV',\n",
    "  ' Dishes and silverware',\n",
    "  ' Room-darkening shades',\n",
    "  ' Garden or backyard',\n",
    "  ' Hair dryer',\n",
    "  ' Kitchen',\n",
    "  ' Washer',\n",
    "  ' Keypad',\n",
    "  ' Cable TV',\n",
    "  ' Oven',\n",
    "  ' Free street parking]'],\n",
    " 132.0]\n",
    "```\n",
    "\n",
    "> Note: A more advanced method would be to use a [list comprehension](https://docs.python.org/3/tutorial/datastructures.html) to accomplish this."
   ]
  },
  {
   "cell_type": "code",
   "execution_count": 11,
   "metadata": {},
   "outputs": [],
   "source": [
    "# Q3 Part 1-4: creating parsed_listing as a listing. Using a forloop with the list of all of the changes for amenities, price,\n",
    "#bedrooms, and bathroooms within the forloop. This will apply to each listing in lists. \n",
    "#at the end I put listing into parsed_listing (append) to complete the forloop.\n",
    "parsed_listings = []\n",
    "for listing in listings:\n",
    "    amenities = listing[10]\n",
    "    amenities = amenities.replace('\"', '')\n",
    "    amenities = amenities.split(',')\n",
    "    price = listing[11]\n",
    "    price = price.replace('$', '')\n",
    "    price = price.replace(',', '')\n",
    "    price = float(price)\n",
    "    bedrooms = listing[9]\n",
    "    bedrooms = float(bedrooms)\n",
    "    bathrooms = listing[8]\n",
    "    bathrooms = float(bathrooms)\n",
    "    listing[10] = amenities\n",
    "    listing[11] = price\n",
    "    listing[9] = bedrooms\n",
    "    listing[8] = bathrooms\n",
    "    parsed_listings.append(listing)"
   ]
  },
  {
   "cell_type": "code",
   "execution_count": 12,
   "metadata": {
    "ExecuteTime": {
     "end_time": "2019-08-15T16:55:09.270378Z",
     "start_time": "2019-08-15T16:55:09.256206Z"
    }
   },
   "outputs": [
    {
     "data": {
      "text/plain": [
       "['958',\n",
       " 'https://www.airbnb.com/rooms/958',\n",
       " 'Bright, Modern Garden Unit - 1BR/1BTH',\n",
       " '1169',\n",
       " 'Holly',\n",
       " 't',\n",
       " 'Western Addition',\n",
       " '3',\n",
       " 1.0,\n",
       " 1.0,\n",
       " ['Heating',\n",
       "  'Hot water',\n",
       "  'Stove',\n",
       "  'Iron',\n",
       "  'Dryer',\n",
       "  'Coffee maker',\n",
       "  'Carbon monoxide alarm',\n",
       "  'Pack \\\\u2019n Play/travel crib',\n",
       "  'Private entrance',\n",
       "  'Microwave',\n",
       "  'Hangers',\n",
       "  'Essentials',\n",
       "  'Laptop-friendly workspace',\n",
       "  'First aid kit',\n",
       "  'Smoke alarm',\n",
       "  'Refrigerator',\n",
       "  'Wifi',\n",
       "  'Cooking basics',\n",
       "  'Shampoo',\n",
       "  'TV',\n",
       "  'Dishes and silverware',\n",
       "  'Room-darkening shades',\n",
       "  'Garden or backyard',\n",
       "  'Hair dryer',\n",
       "  'Kitchen',\n",
       "  'Washer',\n",
       "  'Keypad',\n",
       "  'Cable TV',\n",
       "  'Oven',\n",
       "  'Free street parking'],\n",
       " 132.0]"
      ]
     },
     "execution_count": 12,
     "metadata": {},
     "output_type": "execute_result"
    }
   ],
   "source": [
    "#printing out the first listing in parsed_listing\n",
    "parsed_listings[0]  "
   ]
  },
  {
   "cell_type": "markdown",
   "metadata": {},
   "source": [
    "# ---\n",
    "\n",
    "## Question 4\n",
    "\n",
    "Next, let's dig into price differences between listings with different criteria.\n",
    "\n",
    "- **Part 1**. Begin by creating two lists called `one_bathroom` and `two_bathroom` where the elements fit the following criteria:\n",
    "    - `small_homes_one` should only have listings with less than two bathrooms\n",
    "    - `small_homes_two` should only have listings with more than two bathrooms but less than three\n",
    "    \n",
    "- **Part 2**. What is the average price for each set of listings? \n",
    "\n",
    "- **Part 3**. Finish by printing the number of elements in each list.\n",
    "\n",
    "- **Part 4**. Then create a new list called `small_homes` that only contains listings that have either: \n",
    "    - Exactly 1 bathroom\n",
    "OR\n",
    "    - Less than 2 bathrooms AND exactly 1 bedroom\n",
    "\n",
    "- **Part 5**. Wrap up by printing the number of elements in the list `small_homes`."
   ]
  },
  {
   "cell_type": "code",
   "execution_count": 13,
   "metadata": {},
   "outputs": [],
   "source": [
    "#Q4 part 1: creating listings for small_homes_one and small_homes_two\n",
    "small_homes_one = []\n",
    "small_homes_two = []\n",
    "#using a forloop of listings in parsed_listing\n",
    "for listing in parsed_listings:\n",
    "    #look at the bathrooms in the listing\n",
    "    bathrooms = listing[8]\n",
    "    #if the has less than 2 bathrooms put the listing in small homes one\n",
    "    if bathrooms < 2:\n",
    "        small_homes_one.append(listing)\n",
    "    #if the listing has 2 or more but less than three bathrooms put the listing in small homes two\n",
    "    if bathrooms >= 2 and bathrooms < 3:\n",
    "        small_homes_two.append(listing)"
   ]
  },
  {
   "cell_type": "code",
   "execution_count": 36,
   "metadata": {
    "ExecuteTime": {
     "end_time": "2019-08-15T16:55:09.292898Z",
     "start_time": "2019-08-15T16:55:09.277139Z"
    }
   },
   "outputs": [
    {
     "name": "stdout",
     "output_type": "stream",
     "text": [
      "average price of small_homes_one: 240.36299182903835\n",
      "average price of small_homes_two: 308.35345438441095\n"
     ]
    }
   ],
   "source": [
    "#Q4 part 2: using sum and length to find the average\n",
    "price_homes_one = []\n",
    "price_homes_two = []\n",
    "for listing in small_homes_one:\n",
    "    price_homes_one.append(listing[11])\n",
    "for listing in small_homes_two:\n",
    "    price_homes_two.append(listing[11])\n",
    "    \n",
    "#getting the sum for price_homes_1\n",
    "sum_price_homes_1 = sum(price_homes_one)\n",
    "#getting the sum for price_homes_2\n",
    "sum_price_homes_2 = sum(price_homes_two)\n",
    "#finding the average using sum and length using sum_price_homes1 and sum_price_homes_two divided by small_homes_one\n",
    "#and small_homes_two\n",
    "avg_price_homes_1 = sum_price_homes_1 / len(small_homes_one)\n",
    "avg_price_homes_2 = sum_price_homes_2 / len(small_homes_two)\n",
    "print(\"average price of small_homes_one:\", avg_price_homes_1)\n",
    "print(\"average price of small_homes_two:\", avg_price_homes_2)"
   ]
  },
  {
   "cell_type": "code",
   "execution_count": 32,
   "metadata": {},
   "outputs": [
    {
     "name": "stdout",
     "output_type": "stream",
     "text": [
      "small_homes_one: 4773\n",
      "small_homes_two: 1129\n"
     ]
    }
   ],
   "source": [
    "#Q4 Part 3. Finish by printing the number of elements in each list.\n",
    "print(\"small_homes_one:\", len(small_homes_one))\n",
    "print(\"small_homes_two:\", len(small_homes_two))"
   ]
  },
  {
   "cell_type": "code",
   "execution_count": 16,
   "metadata": {},
   "outputs": [],
   "source": [
    "#Q4 Part 4. Created a new list called small_homes that only contains listings that have either:\n",
    "#Exactly 1 bathroom OR Less than 2 bathrooms AND exactly 1 bedroom\n",
    "\n",
    "small_homes = []\n",
    "for listing in parsed_listings:\n",
    "    bathroom = listing[8]\n",
    "    bedrooms = listing[9]\n",
    "    if bathrooms == 1 or (bathrooms < 2 and bedrooms == 1):\n",
    "        small_homes.append(listing)"
   ]
  },
  {
   "cell_type": "code",
   "execution_count": 34,
   "metadata": {},
   "outputs": [
    {
     "name": "stdout",
     "output_type": "stream",
     "text": [
      "length of small_homes: 6346\n"
     ]
    }
   ],
   "source": [
    "#Part 5. Wrap up by printing the number of elements in the list `small_homes`.\n",
    "print(\"length of small_homes:\", len(small_homes))"
   ]
  },
  {
   "cell_type": "markdown",
   "metadata": {},
   "source": [
    "---\n",
    "\n",
    "## Question 5\n",
    "\n",
    "\n",
    "- **Part 1**. Now let's create a *dictionary* called `amenities_count`. \n",
    "\n",
    "> Hint: A dictionary uses key/value pairs. For more info on Python dictionaries, [check out this link](https://www.w3schools.com/python/python_dictionaries.asp).\n",
    "\n",
    "For your new `amenities_count` dictionary, make the *keys* of the dictionary equal the amenities listed and the *values* indicate the number of times that amenity appears across every listing.\n",
    "\n",
    "Examples:\n",
    "    - amenities_count['Day bed'] == 7\n",
    "    - amenities_count['Coffee maker'] == 1230\n",
    "    \n",
    "\n",
    "- **Part 2**. Now *iterate* over your new `amenities_count` dictionary to surface the amenity that appears the *most often* across all listings!\n",
    "\n"
   ]
  },
  {
   "cell_type": "code",
   "execution_count": 18,
   "metadata": {},
   "outputs": [],
   "source": [
    "#  Q5 Part 1: creating a dictionary for amenities_count. Using a forloop to make the keys and values for amenity.\n",
    "amenities_count = {}\n",
    "for listing in parsed_listings:\n",
    "    amenities = listing[10]\n",
    "    for amenity in amenities:\n",
    "        if amenity in amenities_count:\n",
    "            amenities_count[amenity] = amenities_count[amenity] + 1\n",
    "        else:\n",
    "            amenities_count[amenity] = 1\n",
    "            "
   ]
  },
  {
   "cell_type": "code",
   "execution_count": 19,
   "metadata": {},
   "outputs": [
    {
     "name": "stdout",
     "output_type": "stream",
     "text": [
      "Wifi : 6279\n"
     ]
    }
   ],
   "source": [
    "# Q5 Part 2:making the highest_frequency_amenity null, & highest_frequency 0 because that is what I have seen so far\n",
    "highest_frequency_amenity = None #amenity name with highest frequency\n",
    "highest_frequency = 0 \n",
    "#creating a forloop with amenity and amenities count to find what is the highest frequency of amenities\n",
    "#by using conditional statements. \n",
    "for amenity in amenities_count:\n",
    "    if highest_frequency < amenities_count[amenity]:\n",
    "        highest_frequency = amenities_count[amenity]\n",
    "        highest_frequency_amenity = amenity\n",
    "print(highest_frequency_amenity, ':', highest_frequency)"
   ]
  },
  {
   "cell_type": "markdown",
   "metadata": {},
   "source": [
    "---\n",
    "\n",
    "# ADVANCED \n",
    "\n",
    "> **Advanced:** This section covers mopre complex topics from the previous unit as well as conquering some brand new concepts. These questions are _optional_. \n",
    "\n",
    "## Question 1\n",
    "\n",
    "This dataset has a bunch of properties in it that are ABSURDLY priced ($10000 per night seems a bit high) and are probably priced in this way to deter rentals whilst still keeping the property up. This makes them severe outliers in the dataset and could throw off any analysis we want to make in the future. Let's try to clear this up.\n",
    "\n",
    "- **Part 1.** Create a loop that goes through the original list of properties and places them into a new list from least to most expensive. Then take some time to look through a few of the higher priced properties. This will reveal some strange values. \n",
    "> Note: There are many ways to accomplish this task but we recommend using a new library method called [itemgetter](https://docs.python.org/3/library/operator.html#operator.itemgetter) which was made specifically for this purpose and the [sorted](https://www.w3schools.com/python/ref_func_sorted.asp) function.\n",
    "\n",
    "- **Part 2.** Calculate the median price of the sorted dataset. This will be used in order to determine the quartiles of our dataset.\n",
    "\n",
    "- **Part 3.** Calculate the lower quartile (the data point below which 25% of the observations set)\n",
    "\n",
    "- **Part 4.** Calculate the upper quartile (the data point above which 25% of the observations set)\n",
    "\n",
    "- **Part 5.** Find the interquartile range by subtracting the value of the lower quartile from the value of the upper quartile.\n",
    "\n",
    "- **Part 6.** Find the \"inner fences\" of the data set. To find the inner fences of the data set first multiply the interquartile range by 1.5. Then add the result to the upper quartile and subtract it from the lower quartile. The two values you recieve are the boundries for the dataset's inner fences.\n",
    "> Note: A point that falls outside of this numeric boundry is classified as a *minor outlier*\n",
    "\n",
    "- **Part 7.** Find the \"outer fences\" of the data set. This is done in the same way as uncovering the inner fences, except that the interquartile range is multiplied by 3 instead of 1.5. The result is then added to the upper quartile and subtracted from lower quartile to find the upper and lower boundaries of the outer fence.\n",
    "> Note: A point that falls outside of this numeric boundry is classified as a *major outlier*\n",
    "\n",
    "- **Part 8.** Now it is time to finally clean the dataset! Remove any values from the listings whose prices are outside of the outer fences.\n",
    "\n",
    "- **Part 9.** Finally, let's add a new value to each listing that tells the viewer whether or not the listing is a minor outlier or not."
   ]
  },
  {
   "cell_type": "code",
   "execution_count": 20,
   "metadata": {
    "scrolled": true
   },
   "outputs": [],
   "source": [
    "# Now you try!\n",
    "# Enter your solution for Q1, Part 1"
   ]
  },
  {
   "cell_type": "code",
   "execution_count": 21,
   "metadata": {},
   "outputs": [],
   "source": [
    "# Now you try!\n",
    "# Enter your solution for Q1, Part 2"
   ]
  },
  {
   "cell_type": "code",
   "execution_count": 22,
   "metadata": {},
   "outputs": [],
   "source": [
    "# Now you try!\n",
    "# Enter your solution for Q1, Part 3, 4, and 5"
   ]
  },
  {
   "cell_type": "code",
   "execution_count": 23,
   "metadata": {},
   "outputs": [],
   "source": [
    "# Now you try!\n",
    "# Enter your solution for Q1, Part 6 and 7"
   ]
  },
  {
   "cell_type": "code",
   "execution_count": 24,
   "metadata": {},
   "outputs": [],
   "source": [
    "# Now you try!\n",
    "# Enter your solution for Q1, Part 8"
   ]
  },
  {
   "cell_type": "code",
   "execution_count": 25,
   "metadata": {},
   "outputs": [],
   "source": [
    "# Now you try!\n",
    "# Enter your solution for Q1, Part 9"
   ]
  },
  {
   "cell_type": "markdown",
   "metadata": {},
   "source": [
    "## Question 2\n",
    "\n",
    "You are working with a client on developing a new a value proposition for their AirBnB properties. This will help your client, a real estate investor, determine which type of properties they should purchase to have the best success on AirBnB.\n",
    "\n",
    "**Part 1.** Create at least three rental market segments based on price and the number of people the property can accommodate.\n",
    "\n",
    "> Note: Market segments refer to clustering a group of people by one of more charactertic. In marketing, it will allow us to develop a specifc targeted strategy for different people based on their needs. In our case, you should segment the rentals based on price and the number of people the property can accommodate. For exmaple, one segment could contain lower priced and smaller properties. This segment could be geared toward a customers that are price sensitive and looking for a deal. Another segment could contain large higher priced properties tailored to customers looking for a place to stay for a family / friend celebration or vacation. \n",
    "\n",
    "**Part 2.** Which room and property type appear the most in each segment?\n",
    "\n",
    "**Part 3.** How many properties contain reviews under 5 in each segment? Remove all rentals with the number of reviews under 5 from each\n",
    "\n",
    "**Part 4.** Which segment should your client consider and why?"
   ]
  },
  {
   "cell_type": "code",
   "execution_count": 26,
   "metadata": {},
   "outputs": [],
   "source": [
    "# Now you try!\n",
    "# Enter your solution for Q2, Part 1"
   ]
  },
  {
   "cell_type": "code",
   "execution_count": 27,
   "metadata": {},
   "outputs": [],
   "source": [
    "# Now you try!\n",
    "# Enter your solution for Q2, Part 2"
   ]
  },
  {
   "cell_type": "code",
   "execution_count": 28,
   "metadata": {},
   "outputs": [],
   "source": [
    "# Now you try!\n",
    "# Enter your solution for Q2, Part 3"
   ]
  },
  {
   "cell_type": "code",
   "execution_count": 29,
   "metadata": {},
   "outputs": [],
   "source": [
    "# Now you try!\n",
    "# Enter your solution for Q2, Part 3"
   ]
  }
 ],
 "metadata": {
  "kernelspec": {
   "display_name": "Python 3",
   "language": "python",
   "name": "python3"
  },
  "language_info": {
   "codemirror_mode": {
    "name": "ipython",
    "version": 3
   },
   "file_extension": ".py",
   "mimetype": "text/x-python",
   "name": "python",
   "nbconvert_exporter": "python",
   "pygments_lexer": "ipython3",
   "version": "3.8.3"
  }
 },
 "nbformat": 4,
 "nbformat_minor": 2
}
